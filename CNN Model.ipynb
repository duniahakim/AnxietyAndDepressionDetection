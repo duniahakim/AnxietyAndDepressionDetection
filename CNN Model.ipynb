{
 "cells": [
  {
   "cell_type": "code",
   "execution_count": 1,
   "metadata": {},
   "outputs": [],
   "source": [
    "from keras import layers\n",
    "from keras import models\n",
    "import tensorflow as tf\n",
    "from keras.layers.advanced_activations import LeakyReLU\n",
    "from keras.optimizers import Adam\n",
    "import keras.backend as K\n",
    "import librosa\n",
    "import librosa.display\n",
    "import pylab\n",
    "import matplotlib.pyplot as plt\n",
    "from matplotlib import figure\n",
    "import gc\n",
    "from keras_preprocessing.image import ImageDataGenerator"
   ]
  },
  {
   "cell_type": "code",
   "execution_count": 2,
   "metadata": {},
   "outputs": [
    {
     "name": "stdout",
     "output_type": "stream",
     "text": [
      "WARNING:tensorflow:From <ipython-input-2-35f2e13b303a>:2: is_gpu_available (from tensorflow.python.framework.test_util) is deprecated and will be removed in a future version.\n",
      "Instructions for updating:\n",
      "Use `tf.config.list_physical_devices('GPU')` instead.\n"
     ]
    },
    {
     "data": {
      "text/plain": [
       "True"
      ]
     },
     "execution_count": 2,
     "metadata": {},
     "output_type": "execute_result"
    }
   ],
   "source": [
    "#check GPU enabled\n",
    "tf.test.is_gpu_available(\n",
    "    cuda_only=False, min_cuda_compute_capability=None\n",
    ")"
   ]
  },
  {
   "cell_type": "code",
   "execution_count": 16,
   "metadata": {},
   "outputs": [
    {
     "name": "stdout",
     "output_type": "stream",
     "text": [
      "Found 3037 images belonging to 2 classes.\n",
      "Found 1154 images belonging to 2 classes.\n",
      "Found 1578 images belonging to 2 classes.\n"
     ]
    }
   ],
   "source": [
    "#image data loader\n",
    "datagen=ImageDataGenerator(rescale=1./255.)\n",
    "train_generator=datagen.flow_from_directory(\n",
    "    directory=\"E:\\\\CS224S_final_Project\\\\data\\\\train_images\",\n",
    "    batch_size=32,\n",
    "    seed=42,\n",
    "    shuffle=True,\n",
    "    class_mode=\"binary\",\n",
    "    target_size=(469, 306))\n",
    "\n",
    "valid_generator=datagen.flow_from_directory(\n",
    "    directory=\"E:\\\\CS224S_final_Project\\\\data\\\\dev_images\",\n",
    "    batch_size=32,\n",
    "    seed=42,\n",
    "    shuffle=True,\n",
    "    class_mode=\"binary\",\n",
    "    target_size=(469,306))\n",
    "\n",
    "test_generator=datagen.flow_from_directory(\n",
    "    directory=\"E:\\\\CS224S_final_Project\\\\data\\\\test_images\",\n",
    "    batch_size=32,\n",
    "    seed=42,\n",
    "    shuffle=True,\n",
    "    class_mode=\"binary\",\n",
    "    target_size=(469,306))"
   ]
  },
  {
   "cell_type": "code",
   "execution_count": 17,
   "metadata": {},
   "outputs": [
    {
     "name": "stdout",
     "output_type": "stream",
     "text": [
      "Model: \"sequential_3\"\n",
      "_________________________________________________________________\n",
      "Layer (type)                 Output Shape              Param #   \n",
      "=================================================================\n",
      "conv2d_12 (Conv2D)           (None, 469, 306, 32)      896       \n",
      "_________________________________________________________________\n",
      "activation_16 (Activation)   (None, 469, 306, 32)      0         \n",
      "_________________________________________________________________\n",
      "conv2d_13 (Conv2D)           (None, 467, 304, 64)      18496     \n",
      "_________________________________________________________________\n",
      "activation_17 (Activation)   (None, 467, 304, 64)      0         \n",
      "_________________________________________________________________\n",
      "max_pooling2d_6 (MaxPooling2 (None, 233, 152, 64)      0         \n",
      "_________________________________________________________________\n",
      "dropout_8 (Dropout)          (None, 233, 152, 64)      0         \n",
      "_________________________________________________________________\n",
      "conv2d_14 (Conv2D)           (None, 233, 152, 64)      36928     \n",
      "_________________________________________________________________\n",
      "activation_18 (Activation)   (None, 233, 152, 64)      0         \n",
      "_________________________________________________________________\n",
      "conv2d_15 (Conv2D)           (None, 231, 150, 64)      36928     \n",
      "_________________________________________________________________\n",
      "activation_19 (Activation)   (None, 231, 150, 64)      0         \n",
      "_________________________________________________________________\n",
      "max_pooling2d_7 (MaxPooling2 (None, 115, 75, 64)       0         \n",
      "_________________________________________________________________\n",
      "dropout_9 (Dropout)          (None, 115, 75, 64)       0         \n",
      "_________________________________________________________________\n",
      "conv2d_16 (Conv2D)           (None, 115, 75, 128)      73856     \n",
      "_________________________________________________________________\n",
      "activation_20 (Activation)   (None, 115, 75, 128)      0         \n",
      "_________________________________________________________________\n",
      "conv2d_17 (Conv2D)           (None, 113, 73, 128)      147584    \n",
      "_________________________________________________________________\n",
      "activation_21 (Activation)   (None, 113, 73, 128)      0         \n",
      "_________________________________________________________________\n",
      "max_pooling2d_8 (MaxPooling2 (None, 56, 36, 128)       0         \n",
      "_________________________________________________________________\n",
      "dropout_10 (Dropout)         (None, 56, 36, 128)       0         \n",
      "_________________________________________________________________\n",
      "flatten_2 (Flatten)          (None, 258048)            0         \n",
      "_________________________________________________________________\n",
      "dense_4 (Dense)              (None, 16)                4128784   \n",
      "_________________________________________________________________\n",
      "activation_22 (Activation)   (None, 16)                0         \n",
      "_________________________________________________________________\n",
      "dropout_11 (Dropout)         (None, 16)                0         \n",
      "_________________________________________________________________\n",
      "dense_5 (Dense)              (None, 1)                 17        \n",
      "=================================================================\n",
      "Total params: 4,443,489\n",
      "Trainable params: 4,443,489\n",
      "Non-trainable params: 0\n",
      "_________________________________________________________________\n"
     ]
    }
   ],
   "source": [
    "from keras.layers import Dense, Activation, Flatten, Dropout, BatchNormalization\n",
    "from keras.models import Sequential, Model\n",
    "from keras.layers import Conv2D, MaxPooling2D, Conv1D, MaxPooling1D\n",
    "from keras import regularizers, optimizers\n",
    "import pandas as pd\n",
    "import numpy as np\n",
    "\n",
    "model = Sequential()\n",
    "model.add(Conv2D(32, (3, 3), padding='same',\n",
    "                 input_shape=(469,306,3)))\n",
    "model.add(Activation('relu'))\n",
    "model.add(Conv2D(64, (3, 3)))\n",
    "model.add(Activation('relu'))\n",
    "model.add(MaxPooling2D(pool_size=(2, 2)))\n",
    "model.add(Dropout(0.25))\n",
    "model.add(Conv2D(64, (3, 3), padding='same'))\n",
    "model.add(Activation('relu'))\n",
    "model.add(Conv2D(64, (3, 3)))\n",
    "model.add(Activation('relu'))\n",
    "model.add(MaxPooling2D(pool_size=(2, 2)))\n",
    "model.add(Dropout(0.5))\n",
    "model.add(Conv2D(128, (3, 3), padding='same'))\n",
    "model.add(Activation('relu'))\n",
    "model.add(Conv2D(128, (3, 3)))\n",
    "model.add(Activation('relu'))\n",
    "model.add(MaxPooling2D(pool_size=(2, 2)))\n",
    "model.add(Dropout(0.5))\n",
    "model.add(Flatten())\n",
    "model.add(Dense(16))\n",
    "model.add(Activation('relu'))\n",
    "model.add(Dropout(0.5))\n",
    "model.add(Dense(1, activation='sigmoid'))\n",
    "model.compile(optimizers.RMSprop(lr=0.0005, decay=1e-6),loss=\"binary_crossentropy\",metrics=[\"accuracy\"])\n",
    "model.summary()"
   ]
  },
  {
   "cell_type": "code",
   "execution_count": 18,
   "metadata": {
    "scrolled": true
   },
   "outputs": [
    {
     "name": "stdout",
     "output_type": "stream",
     "text": [
      "Epoch 1/30\n",
      "94/94 [==============================] - 41s 430ms/step - loss: 1.1666 - accuracy: 0.6870 - val_loss: 0.6757 - val_accuracy: 0.5972\n",
      "Epoch 2/30\n",
      "94/94 [==============================] - 40s 429ms/step - loss: 0.6142 - accuracy: 0.7239 - val_loss: 0.6809 - val_accuracy: 0.5972\n",
      "Epoch 3/30\n",
      "94/94 [==============================] - 40s 427ms/step - loss: 0.6132 - accuracy: 0.7207 - val_loss: 0.6751 - val_accuracy: 0.5981\n",
      "Epoch 4/30\n",
      "94/94 [==============================] - 41s 433ms/step - loss: 0.5911 - accuracy: 0.7178 - val_loss: 0.6769 - val_accuracy: 0.5990\n",
      "Epoch 5/30\n",
      "94/94 [==============================] - 40s 426ms/step - loss: 0.5901 - accuracy: 0.7059 - val_loss: 0.6744 - val_accuracy: 0.5990\n",
      "Epoch 6/30\n",
      "94/94 [==============================] - 40s 426ms/step - loss: 0.5600 - accuracy: 0.7200 - val_loss: 0.7376 - val_accuracy: 0.5972\n",
      "Epoch 7/30\n",
      "94/94 [==============================] - 40s 426ms/step - loss: 0.5296 - accuracy: 0.7400 - val_loss: 0.6977 - val_accuracy: 0.5981\n",
      "Epoch 8/30\n",
      "94/94 [==============================] - 40s 426ms/step - loss: 0.5196 - accuracy: 0.7268 - val_loss: 0.7810 - val_accuracy: 0.5972\n",
      "Epoch 9/30\n",
      "94/94 [==============================] - 40s 427ms/step - loss: 0.5186 - accuracy: 0.7209 - val_loss: 0.7541 - val_accuracy: 0.5981\n",
      "Epoch 10/30\n",
      "94/94 [==============================] - 41s 436ms/step - loss: 0.4946 - accuracy: 0.7186 - val_loss: 1.0896 - val_accuracy: 0.5981\n",
      "Epoch 11/30\n",
      "94/94 [==============================] - 41s 438ms/step - loss: 0.5047 - accuracy: 0.7180 - val_loss: 0.7158 - val_accuracy: 0.5981\n",
      "Epoch 12/30\n",
      "94/94 [==============================] - 41s 439ms/step - loss: 0.5008 - accuracy: 0.7223 - val_loss: 0.9509 - val_accuracy: 0.5981\n",
      "Epoch 13/30\n",
      "94/94 [==============================] - 41s 434ms/step - loss: 0.5081 - accuracy: 0.7007 - val_loss: 0.9254 - val_accuracy: 0.5981\n",
      "Epoch 14/30\n",
      "94/94 [==============================] - 41s 438ms/step - loss: 0.4830 - accuracy: 0.7210 - val_loss: 1.3388 - val_accuracy: 0.5981\n",
      "Epoch 15/30\n",
      "94/94 [==============================] - 42s 443ms/step - loss: 0.4924 - accuracy: 0.7186 - val_loss: 1.3209 - val_accuracy: 0.5972\n",
      "Epoch 16/30\n",
      "94/94 [==============================] - 41s 439ms/step - loss: 0.4987 - accuracy: 0.7139 - val_loss: 1.6823 - val_accuracy: 0.5981\n",
      "Epoch 17/30\n",
      "94/94 [==============================] - 41s 440ms/step - loss: 0.4859 - accuracy: 0.7193 - val_loss: 1.6758 - val_accuracy: 0.5981\n",
      "Epoch 18/30\n",
      "94/94 [==============================] - 41s 439ms/step - loss: 0.4725 - accuracy: 0.7067 - val_loss: 1.5030 - val_accuracy: 0.5981\n",
      "Epoch 19/30\n",
      "94/94 [==============================] - 41s 434ms/step - loss: 0.4566 - accuracy: 0.7198 - val_loss: 1.6379 - val_accuracy: 0.5972\n",
      "Epoch 20/30\n",
      "94/94 [==============================] - 41s 438ms/step - loss: 0.4648 - accuracy: 0.7630 - val_loss: 1.3561 - val_accuracy: 0.6016\n",
      "Epoch 21/30\n",
      "94/94 [==============================] - 41s 438ms/step - loss: 0.4640 - accuracy: 0.7606 - val_loss: 2.0571 - val_accuracy: 0.5981\n",
      "Epoch 22/30\n",
      "94/94 [==============================] - 41s 437ms/step - loss: 0.4512 - accuracy: 0.7781 - val_loss: 1.9029 - val_accuracy: 0.6016\n",
      "Epoch 23/30\n",
      "94/94 [==============================] - 41s 442ms/step - loss: 0.4510 - accuracy: 0.7805 - val_loss: 1.2367 - val_accuracy: 0.6007\n",
      "Epoch 24/30\n",
      "94/94 [==============================] - 41s 441ms/step - loss: 0.4808 - accuracy: 0.7677 - val_loss: 1.6051 - val_accuracy: 0.6042\n",
      "Epoch 25/30\n",
      "94/94 [==============================] - 41s 439ms/step - loss: 0.4656 - accuracy: 0.7778 - val_loss: 2.8162 - val_accuracy: 0.5964\n",
      "Epoch 26/30\n",
      "94/94 [==============================] - 41s 437ms/step - loss: 0.4653 - accuracy: 0.7839 - val_loss: 1.7484 - val_accuracy: 0.6024\n",
      "Epoch 27/30\n",
      "94/94 [==============================] - 41s 441ms/step - loss: 0.4619 - accuracy: 0.7758 - val_loss: 2.0639 - val_accuracy: 0.5998\n",
      "Epoch 28/30\n",
      "94/94 [==============================] - 41s 440ms/step - loss: 0.4643 - accuracy: 0.7589 - val_loss: 1.5702 - val_accuracy: 0.6059\n",
      "Epoch 29/30\n",
      "94/94 [==============================] - 41s 442ms/step - loss: 0.4651 - accuracy: 0.7571 - val_loss: 2.0781 - val_accuracy: 0.6007\n",
      "Epoch 30/30\n",
      "94/94 [==============================] - 41s 441ms/step - loss: 0.4652 - accuracy: 0.8021 - val_loss: 2.4420 - val_accuracy: 0.5981\n"
     ]
    },
    {
     "data": {
      "text/plain": [
       "[2.446561574935913, 0.5972222089767456]"
      ]
     },
     "execution_count": 18,
     "metadata": {},
     "output_type": "execute_result"
    }
   ],
   "source": [
    "#Fitting keras model, no test gen for now\n",
    "STEP_SIZE_TRAIN=train_generator.n//train_generator.batch_size\n",
    "STEP_SIZE_VALID=valid_generator.n//valid_generator.batch_size\n",
    "history = model.fit_generator(generator=train_generator,\n",
    "                    steps_per_epoch=STEP_SIZE_TRAIN,\n",
    "                    validation_data=valid_generator,\n",
    "                    validation_steps=STEP_SIZE_VALID,\n",
    "                    epochs=30)\n",
    "model.evaluate_generator(generator=valid_generator, steps=STEP_SIZE_VALID)"
   ]
  },
  {
   "cell_type": "code",
   "execution_count": 19,
   "metadata": {},
   "outputs": [
    {
     "name": "stdout",
     "output_type": "stream",
     "text": [
      "49/49 [==============================] - 6s 120ms/step\n"
     ]
    },
    {
     "data": {
      "text/plain": [
       "[0.7442506551742554, 0.6033163070678711]"
      ]
     },
     "execution_count": 19,
     "metadata": {},
     "output_type": "execute_result"
    }
   ],
   "source": [
    "STEP_SIZE_TEST=test_generator.n//test_generator.batch_size\n",
    "pred=model.predict_generator(test_generator,\n",
    "steps=STEP_SIZE_TEST,\n",
    "verbose=1)\n",
    "\n",
    "acc = model.evaluate_generator(generator=test_generator, steps=STEP_SIZE_TEST)\n",
    "acc"
   ]
  },
  {
   "cell_type": "code",
   "execution_count": 13,
   "metadata": {},
   "outputs": [
    {
     "data": {
      "text/plain": [
       "{'loss': [0.5970097184181213,\n",
       "  0.5864580869674683,\n",
       "  0.5733625292778015,\n",
       "  0.5593507289886475,\n",
       "  0.5499074459075928,\n",
       "  0.529107928276062,\n",
       "  0.5039184093475342,\n",
       "  0.49000266194343567,\n",
       "  0.4611984193325043,\n",
       "  0.4361407458782196,\n",
       "  0.4101009964942932,\n",
       "  0.3861428201198578,\n",
       "  0.3670750558376312,\n",
       "  0.3522728979587555,\n",
       "  0.3325035870075226,\n",
       "  0.3121224343776703,\n",
       "  0.2907268702983856,\n",
       "  0.2930213212966919,\n",
       "  0.2721068859100342,\n",
       "  0.2542506158351898,\n",
       "  0.2511141002178192,\n",
       "  0.2314685732126236,\n",
       "  0.22735288739204407,\n",
       "  0.22089965641498566,\n",
       "  0.20902900397777557,\n",
       "  0.1775413602590561,\n",
       "  0.18083719909191132,\n",
       "  0.1746797114610672,\n",
       "  0.17320701479911804,\n",
       "  0.15977928042411804],\n",
       " 'accuracy': [0.7194675803184509,\n",
       "  0.7171381115913391,\n",
       "  0.7174708843231201,\n",
       "  0.720798671245575,\n",
       "  0.728723406791687,\n",
       "  0.7400998473167419,\n",
       "  0.7527454495429993,\n",
       "  0.7650582194328308,\n",
       "  0.7763727307319641,\n",
       "  0.7946755290031433,\n",
       "  0.8053244352340698,\n",
       "  0.8282861709594727,\n",
       "  0.8296173214912415,\n",
       "  0.841930091381073,\n",
       "  0.8552412390708923,\n",
       "  0.8625624179840088,\n",
       "  0.881863534450531,\n",
       "  0.8752079606056213,\n",
       "  0.8945091366767883,\n",
       "  0.8935108184814453,\n",
       "  0.8951746821403503,\n",
       "  0.9104825258255005,\n",
       "  0.9044924974441528,\n",
       "  0.9148086309432983,\n",
       "  0.9151414036750793,\n",
       "  0.9347753524780273,\n",
       "  0.9291181564331055,\n",
       "  0.9361065030097961,\n",
       "  0.9357737302780151,\n",
       "  0.941763699054718],\n",
       " 'val_loss': [0.6879515647888184,\n",
       "  0.7647912502288818,\n",
       "  0.6751869320869446,\n",
       "  0.7056582570075989,\n",
       "  0.7061577439308167,\n",
       "  0.7124395966529846,\n",
       "  0.824228048324585,\n",
       "  1.0081534385681152,\n",
       "  0.9977524876594543,\n",
       "  0.8271703124046326,\n",
       "  1.0211727619171143,\n",
       "  1.04707932472229,\n",
       "  1.245517611503601,\n",
       "  1.1087685823440552,\n",
       "  1.2532625198364258,\n",
       "  1.0716782808303833,\n",
       "  1.6802115440368652,\n",
       "  1.4017770290374756,\n",
       "  1.525696039199829,\n",
       "  1.5348581075668335,\n",
       "  1.7046139240264893,\n",
       "  1.4372482299804688,\n",
       "  1.9565355777740479,\n",
       "  1.7625303268432617,\n",
       "  1.8706626892089844,\n",
       "  2.0044853687286377,\n",
       "  1.8493989706039429,\n",
       "  1.9654873609542847,\n",
       "  1.703619122505188,\n",
       "  1.4613393545150757],\n",
       " 'val_accuracy': [0.5980902910232544,\n",
       "  0.5980902910232544,\n",
       "  0.5972222089767456,\n",
       "  0.5963541865348816,\n",
       "  0.5642361044883728,\n",
       "  0.5078125,\n",
       "  0.484375,\n",
       "  0.5295138955116272,\n",
       "  0.5251736044883728,\n",
       "  0.4869791567325592,\n",
       "  0.5130208134651184,\n",
       "  0.484375,\n",
       "  0.5199652910232544,\n",
       "  0.5138888955116272,\n",
       "  0.4756944477558136,\n",
       "  0.4600694477558136,\n",
       "  0.5269097089767456,\n",
       "  0.4904513955116272,\n",
       "  0.5182291865348816,\n",
       "  0.4131944477558136,\n",
       "  0.5199652910232544,\n",
       "  0.4756944477558136,\n",
       "  0.4600694477558136,\n",
       "  0.4921875,\n",
       "  0.4505208432674408,\n",
       "  0.5355902910232544,\n",
       "  0.5486111044883728,\n",
       "  0.5234375,\n",
       "  0.4635416567325592,\n",
       "  0.4609375]}"
      ]
     },
     "execution_count": 13,
     "metadata": {},
     "output_type": "execute_result"
    }
   ],
   "source": [
    "history.history"
   ]
  },
  {
   "cell_type": "code",
   "execution_count": 14,
   "metadata": {},
   "outputs": [],
   "source": [
    "output = model.evaluate_generator(generator=valid_generator, steps=STEP_SIZE_VALID)"
   ]
  },
  {
   "cell_type": "code",
   "execution_count": 21,
   "metadata": {},
   "outputs": [
    {
     "data": {
      "text/plain": [
       "[0.5980902910232544,\n",
       " 0.5980902910232544,\n",
       " 0.5972222089767456,\n",
       " 0.5963541865348816,\n",
       " 0.5642361044883728,\n",
       " 0.5078125,\n",
       " 0.484375,\n",
       " 0.5295138955116272,\n",
       " 0.5251736044883728,\n",
       " 0.4869791567325592,\n",
       " 0.5130208134651184,\n",
       " 0.484375,\n",
       " 0.5199652910232544,\n",
       " 0.5138888955116272,\n",
       " 0.4756944477558136,\n",
       " 0.4600694477558136,\n",
       " 0.5269097089767456,\n",
       " 0.4904513955116272,\n",
       " 0.5182291865348816,\n",
       " 0.4131944477558136,\n",
       " 0.5199652910232544,\n",
       " 0.4756944477558136,\n",
       " 0.4600694477558136,\n",
       " 0.4921875,\n",
       " 0.4505208432674408,\n",
       " 0.5355902910232544,\n",
       " 0.5486111044883728,\n",
       " 0.5234375,\n",
       " 0.4635416567325592,\n",
       " 0.4609375]"
      ]
     },
     "execution_count": 21,
     "metadata": {},
     "output_type": "execute_result"
    }
   ],
   "source": [
    "history.history['val_accuracy']"
   ]
  },
  {
   "cell_type": "code",
   "execution_count": 18,
   "metadata": {},
   "outputs": [
    {
     "data": {
      "text/plain": [
       "[1.459011435508728, 0.4618055522441864]"
      ]
     },
     "execution_count": 18,
     "metadata": {},
     "output_type": "execute_result"
    }
   ],
   "source": [
    "output"
   ]
  },
  {
   "cell_type": "code",
   "execution_count": 20,
   "metadata": {},
   "outputs": [
    {
     "data": {
      "image/png": "[encoded data removed]",
      "text/plain": [
       "<Figure size 432x288 with 1 Axes>"
      ]
     },
     "metadata": {
      "needs_background": "light"
     },
     "output_type": "display_data"
    },
    {
     "data": {
      "image/png": "[encoded data removed]",
      "text/plain": [
       "<Figure size 432x288 with 1 Axes>"
      ]
     },
     "metadata": {
      "needs_background": "light"
     },
     "output_type": "display_data"
    }
   ],
   "source": [
    "plt.plot(history.history['accuracy'])\n",
    "plt.plot(history.history['val_accuracy'])\n",
    "plt.title('model accuracy')\n",
    "plt.ylabel('accuracy')\n",
    "plt.xlabel('epoch')\n",
    "plt.legend(['train', 'test'], loc='upper left')\n",
    "plt.show()\n",
    "# summarize history for loss\n",
    "plt.plot(history.history['loss'])\n",
    "plt.plot(history.history['val_loss'])\n",
    "plt.title('model loss')\n",
    "plt.ylabel('loss')\n",
    "plt.xlabel('epoch')\n",
    "plt.legend(['train', 'test'], loc='upper left')\n",
    "plt.show()"
   ]
  },
  {
   "cell_type": "code",
   "execution_count": 22,
   "metadata": {},
   "outputs": [
    {
     "data": {
      "text/plain": [
       "{'loss': [0.5970097184181213,\n",
       "  0.5864580869674683,\n",
       "  0.5733625292778015,\n",
       "  0.5593507289886475,\n",
       "  0.5499074459075928,\n",
       "  0.529107928276062,\n",
       "  0.5039184093475342,\n",
       "  0.49000266194343567,\n",
       "  0.4611984193325043,\n",
       "  0.4361407458782196,\n",
       "  0.4101009964942932,\n",
       "  0.3861428201198578,\n",
       "  0.3670750558376312,\n",
       "  0.3522728979587555,\n",
       "  0.3325035870075226,\n",
       "  0.3121224343776703,\n",
       "  0.2907268702983856,\n",
       "  0.2930213212966919,\n",
       "  0.2721068859100342,\n",
       "  0.2542506158351898,\n",
       "  0.2511141002178192,\n",
       "  0.2314685732126236,\n",
       "  0.22735288739204407,\n",
       "  0.22089965641498566,\n",
       "  0.20902900397777557,\n",
       "  0.1775413602590561,\n",
       "  0.18083719909191132,\n",
       "  0.1746797114610672,\n",
       "  0.17320701479911804,\n",
       "  0.15977928042411804],\n",
       " 'accuracy': [0.7194675803184509,\n",
       "  0.7171381115913391,\n",
       "  0.7174708843231201,\n",
       "  0.720798671245575,\n",
       "  0.728723406791687,\n",
       "  0.7400998473167419,\n",
       "  0.7527454495429993,\n",
       "  0.7650582194328308,\n",
       "  0.7763727307319641,\n",
       "  0.7946755290031433,\n",
       "  0.8053244352340698,\n",
       "  0.8282861709594727,\n",
       "  0.8296173214912415,\n",
       "  0.841930091381073,\n",
       "  0.8552412390708923,\n",
       "  0.8625624179840088,\n",
       "  0.881863534450531,\n",
       "  0.8752079606056213,\n",
       "  0.8945091366767883,\n",
       "  0.8935108184814453,\n",
       "  0.8951746821403503,\n",
       "  0.9104825258255005,\n",
       "  0.9044924974441528,\n",
       "  0.9148086309432983,\n",
       "  0.9151414036750793,\n",
       "  0.9347753524780273,\n",
       "  0.9291181564331055,\n",
       "  0.9361065030097961,\n",
       "  0.9357737302780151,\n",
       "  0.941763699054718],\n",
       " 'val_loss': [0.6879515647888184,\n",
       "  0.7647912502288818,\n",
       "  0.6751869320869446,\n",
       "  0.7056582570075989,\n",
       "  0.7061577439308167,\n",
       "  0.7124395966529846,\n",
       "  0.824228048324585,\n",
       "  1.0081534385681152,\n",
       "  0.9977524876594543,\n",
       "  0.8271703124046326,\n",
       "  1.0211727619171143,\n",
       "  1.04707932472229,\n",
       "  1.245517611503601,\n",
       "  1.1087685823440552,\n",
       "  1.2532625198364258,\n",
       "  1.0716782808303833,\n",
       "  1.6802115440368652,\n",
       "  1.4017770290374756,\n",
       "  1.525696039199829,\n",
       "  1.5348581075668335,\n",
       "  1.7046139240264893,\n",
       "  1.4372482299804688,\n",
       "  1.9565355777740479,\n",
       "  1.7625303268432617,\n",
       "  1.8706626892089844,\n",
       "  2.0044853687286377,\n",
       "  1.8493989706039429,\n",
       "  1.9654873609542847,\n",
       "  1.703619122505188,\n",
       "  1.4613393545150757],\n",
       " 'val_accuracy': [0.5980902910232544,\n",
       "  0.5980902910232544,\n",
       "  0.5972222089767456,\n",
       "  0.5963541865348816,\n",
       "  0.5642361044883728,\n",
       "  0.5078125,\n",
       "  0.484375,\n",
       "  0.5295138955116272,\n",
       "  0.5251736044883728,\n",
       "  0.4869791567325592,\n",
       "  0.5130208134651184,\n",
       "  0.484375,\n",
       "  0.5199652910232544,\n",
       "  0.5138888955116272,\n",
       "  0.4756944477558136,\n",
       "  0.4600694477558136,\n",
       "  0.5269097089767456,\n",
       "  0.4904513955116272,\n",
       "  0.5182291865348816,\n",
       "  0.4131944477558136,\n",
       "  0.5199652910232544,\n",
       "  0.4756944477558136,\n",
       "  0.4600694477558136,\n",
       "  0.4921875,\n",
       "  0.4505208432674408,\n",
       "  0.5355902910232544,\n",
       "  0.5486111044883728,\n",
       "  0.5234375,\n",
       "  0.4635416567325592,\n",
       "  0.4609375]}"
      ]
     },
     "execution_count": 22,
     "metadata": {},
     "output_type": "execute_result"
    }
   ],
   "source": [
    "history.history"
   ]
  },
  {
   "cell_type": "code",
   "execution_count": null,
   "metadata": {},
   "outputs": [],
   "source": []
  }
 ],
 "metadata": {
  "kernelspec": {
   "display_name": "Python 3",
   "language": "python",
   "name": "python3"
  },
  "language_info": {
   "codemirror_mode": {
    "name": "ipython",
    "version": 3
   },
   "file_extension": ".py",
   "mimetype": "text/x-python",
   "name": "python",
   "nbconvert_exporter": "python",
   "pygments_lexer": "ipython3",
   "version": "3.8.0"
  }
 },
 "nbformat": 4,
 "nbformat_minor": 4
}
