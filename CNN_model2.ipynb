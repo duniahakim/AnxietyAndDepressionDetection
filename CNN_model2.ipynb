{
 "cells": [
  {
   "cell_type": "code",
   "execution_count": 70,
   "metadata": {},
   "outputs": [],
   "source": [
    "from keras import layers\n",
    "from keras import models\n",
    "import tensorflow as tf\n",
    "from keras.layers.advanced_activations import LeakyReLU\n",
    "from keras.optimizers import Adam\n",
    "import keras.backend as K\n",
    "import librosa\n",
    "import librosa.display\n",
    "import pylab\n",
    "import matplotlib.pyplot as plt\n",
    "from matplotlib import figure\n",
    "import gc\n",
    "from keras_preprocessing.image import ImageDataGenerator\n",
    "import os\n",
    "import pickle as plk\n",
    "import pandas as pd\n",
    "import numpy as np"
   ]
  },
  {
   "cell_type": "code",
   "execution_count": 27,
   "metadata": {},
   "outputs": [
    {
     "data": {
      "text/plain": [
       "True"
      ]
     },
     "execution_count": 27,
     "metadata": {},
     "output_type": "execute_result"
    }
   ],
   "source": [
    "#check GPU enabled\n",
    "tf.test.is_gpu_available(\n",
    "    cuda_only=False, min_cuda_compute_capability=None\n",
    ")"
   ]
  },
  {
   "cell_type": "code",
   "execution_count": 53,
   "metadata": {},
   "outputs": [],
   "source": [
    "train_dir = 'E:\\\\CS224S_final_Project\\\\data\\\\melspectrograms\\\\train\\\\'\n",
    "dev_dir = 'E:\\\\CS224S_final_Project\\\\data\\\\melspectrograms\\\\dev\\\\'"
   ]
  },
  {
   "cell_type": "code",
   "execution_count": 79,
   "metadata": {},
   "outputs": [
    {
     "name": "stdout",
     "output_type": "stream",
     "text": [
      "input dim: (128, 646)\n"
     ]
    }
   ],
   "source": [
    "example = np.load(\"E:\\\\CS224S_final_Project\\\\data\\\\melspectrograms\\\\train\\\\303_0.npy\", allow_pickle=True)\n",
    "input_dim = example[0].shape\n",
    "print(\"input dim:\", input_dim)\n",
    "\n",
    "train_index_to_file = {}\n",
    "idx = 0\n",
    "for file in os.listdir(train_dir):\n",
    "    train_index_to_file[idx] = file\n",
    "    idx += 1\n",
    "    \n",
    "dev_index_to_file = {}\n",
    "idx = 0\n",
    "for file in os.listdir(dev_dir):\n",
    "    dev_index_to_file[idx] = file\n",
    "    idx += 1\n",
    "    \n",
    "train_idx = train_index_to_file.keys()\n",
    "dev_idx = dev_index_to_file.keys()"
   ]
  },
  {
   "cell_type": "code",
   "execution_count": null,
   "metadata": {},
   "outputs": [],
   "source": [
    "class MelSpectDataGen(Sequence):\n",
    "    \"\"\"\n",
    "    Generates a dataset of log melspectrograms\n",
    "    \"\"\"\n",
    "    def __init__(self, idx, mel_path, idx_to_file,\n",
    "                 to_fit=True, batch_size=32, dim=(128, 646),\n",
    "                 n_classes=2, shuffle=True):\n",
    "        self.idx = idx\n",
    "        self.mel_path = mel_path\n",
    "        self.idx_to_file = idx_to_file\n",
    "        self.to_fit = to_fit\n",
    "        self.batch_size = batch_size\n",
    "        self.dim = dim\n",
    "        self.n_classes = n_classes\n",
    "        self.shuffle = shuffle\n",
    "        self.on_epoch_end()\n",
    "        \n",
    "    def __len__(self):\n",
    "        \"\"\"\n",
    "        numbers of batches per epoch\n",
    "        \"\"\"\n",
    "        return int(np.floor(len(self.idx) / self.batch_size))\n",
    "    \n",
    "    def __getitem__(self, index):\n",
    "        \"\"\"\n",
    "        returns one batch of data\n",
    "        \"\"\"\n",
    "        ids = self.idx[index * self.batch_size : (index + 1) * self.batch_size]\n",
    "        \n",
    "        "
   ]
  },
  {
   "cell_type": "code",
   "execution_count": 47,
   "metadata": {},
   "outputs": [],
   "source": []
  },
  {
   "cell_type": "code",
   "execution_count": 14,
   "metadata": {},
   "outputs": [
    {
     "ename": "ModuleNotFoundError",
     "evalue": "No module named 'pandas'",
     "output_type": "error",
     "traceback": [
      "\u001b[1;31m---------------------------------------------------------------------------\u001b[0m",
      "\u001b[1;31mModuleNotFoundError\u001b[0m                       Traceback (most recent call last)",
      "\u001b[1;32m<ipython-input-14-5f5c241bcbf0>\u001b[0m in \u001b[0;36m<module>\u001b[1;34m\u001b[0m\n\u001b[0;32m      3\u001b[0m \u001b[1;32mfrom\u001b[0m \u001b[0mkeras\u001b[0m\u001b[1;33m.\u001b[0m\u001b[0mlayers\u001b[0m \u001b[1;32mimport\u001b[0m \u001b[0mConv2D\u001b[0m\u001b[1;33m,\u001b[0m \u001b[0mMaxPooling2D\u001b[0m\u001b[1;33m\u001b[0m\u001b[1;33m\u001b[0m\u001b[0m\n\u001b[0;32m      4\u001b[0m \u001b[1;32mfrom\u001b[0m \u001b[0mkeras\u001b[0m \u001b[1;32mimport\u001b[0m \u001b[0mregularizers\u001b[0m\u001b[1;33m,\u001b[0m \u001b[0moptimizers\u001b[0m\u001b[1;33m\u001b[0m\u001b[1;33m\u001b[0m\u001b[0m\n\u001b[1;32m----> 5\u001b[1;33m \u001b[1;32mimport\u001b[0m \u001b[0mpandas\u001b[0m \u001b[1;32mas\u001b[0m \u001b[0mpd\u001b[0m\u001b[1;33m\u001b[0m\u001b[1;33m\u001b[0m\u001b[0m\n\u001b[0m\u001b[0;32m      6\u001b[0m \u001b[1;32mimport\u001b[0m \u001b[0mnumpy\u001b[0m \u001b[1;32mas\u001b[0m \u001b[0mnp\u001b[0m\u001b[1;33m\u001b[0m\u001b[1;33m\u001b[0m\u001b[0m\n\u001b[0;32m      7\u001b[0m \u001b[1;33m\u001b[0m\u001b[0m\n",
      "\u001b[1;31mModuleNotFoundError\u001b[0m: No module named 'pandas'"
     ]
    }
   ],
   "source": [
    "from keras.layers import Dense, Activation, Flatten, Dropout, BatchNormalization\n",
    "from keras.models import Sequential, Model\n",
    "from keras.layers import Conv2D, MaxPooling2D\n",
    "from keras import regularizers, optimizers\n",
    "import pandas as pd\n",
    "import numpy as np\n",
    "\n",
    "model = Sequential()\n",
    "model.add(Conv2D(32, (3, 3), padding='same',\n",
    "                 input_shape=(64,64,3)))\n",
    "model.add(Activation('relu'))\n",
    "model.add(Conv2D(64, (3, 3)))\n",
    "model.add(Activation('relu'))\n",
    "model.add(MaxPooling2D(pool_size=(2, 2)))\n",
    "model.add(Dropout(0.25))\n",
    "model.add(Conv2D(64, (3, 3), padding='same'))\n",
    "model.add(Activation('relu'))\n",
    "model.add(Conv2D(64, (3, 3)))\n",
    "model.add(Activation('relu'))\n",
    "model.add(MaxPooling2D(pool_size=(2, 2)))\n",
    "model.add(Dropout(0.5))\n",
    "model.add(Conv2D(128, (3, 3), padding='same'))\n",
    "model.add(Activation('relu'))\n",
    "model.add(Conv2D(128, (3, 3)))\n",
    "model.add(Activation('relu'))\n",
    "model.add(MaxPooling2D(pool_size=(2, 2)))\n",
    "model.add(Dropout(0.5))\n",
    "model.add(Flatten())\n",
    "model.add(Dense(512))\n",
    "model.add(Activation('relu'))\n",
    "model.add(Dropout(0.5))\n",
    "model.add(Dense(1, activation='sigmoid'))\n",
    "model.compile(optimizers.RMSprop(lr=0.0005, decay=1e-6),loss=\"binary_crossentropy\",metrics=[\"accuracy\"])\n",
    "model.summary()"
   ]
  },
  {
   "cell_type": "code",
   "execution_count": 13,
   "metadata": {},
   "outputs": [
    {
     "ename": "NameError",
     "evalue": "name 'model' is not defined",
     "output_type": "error",
     "traceback": [
      "\u001b[1;31m---------------------------------------------------------------------------\u001b[0m",
      "\u001b[1;31mNameError\u001b[0m                                 Traceback (most recent call last)",
      "\u001b[1;32m<ipython-input-13-1275babae7e5>\u001b[0m in \u001b[0;36m<module>\u001b[1;34m\u001b[0m\n\u001b[0;32m      3\u001b[0m \u001b[0mSTEP_SIZE_VALID\u001b[0m\u001b[1;33m=\u001b[0m\u001b[0mvalid_generator\u001b[0m\u001b[1;33m.\u001b[0m\u001b[0mn\u001b[0m\u001b[1;33m//\u001b[0m\u001b[0mvalid_generator\u001b[0m\u001b[1;33m.\u001b[0m\u001b[0mbatch_size\u001b[0m\u001b[1;33m\u001b[0m\u001b[1;33m\u001b[0m\u001b[0m\n\u001b[0;32m      4\u001b[0m \u001b[1;31m#STEP_SIZE_TEST=test_generator.n//test_generator.batch_size\u001b[0m\u001b[1;33m\u001b[0m\u001b[1;33m\u001b[0m\u001b[1;33m\u001b[0m\u001b[0m\n\u001b[1;32m----> 5\u001b[1;33m history = model.fit_generator(generator=train_generator,\n\u001b[0m\u001b[0;32m      6\u001b[0m                     \u001b[0msteps_per_epoch\u001b[0m\u001b[1;33m=\u001b[0m\u001b[0mSTEP_SIZE_TRAIN\u001b[0m\u001b[1;33m,\u001b[0m\u001b[1;33m\u001b[0m\u001b[1;33m\u001b[0m\u001b[0m\n\u001b[0;32m      7\u001b[0m                     \u001b[0mvalidation_data\u001b[0m\u001b[1;33m=\u001b[0m\u001b[0mvalid_generator\u001b[0m\u001b[1;33m,\u001b[0m\u001b[1;33m\u001b[0m\u001b[1;33m\u001b[0m\u001b[0m\n",
      "\u001b[1;31mNameError\u001b[0m: name 'model' is not defined"
     ]
    }
   ],
   "source": [
    "#Fitting keras model, no test gen for now\n",
    "STEP_SIZE_TRAIN=train_generator.n//train_generator.batch_size\n",
    "STEP_SIZE_VALID=valid_generator.n//valid_generator.batch_size\n",
    "#STEP_SIZE_TEST=test_generator.n//test_generator.batch_size\n",
    "history = model.fit_generator(generator=train_generator,\n",
    "                    steps_per_epoch=STEP_SIZE_TRAIN,\n",
    "                    validation_data=valid_generator,\n",
    "                    validation_steps=STEP_SIZE_VALID,\n",
    "                    epochs=30)\n",
    "model.evaluate_generator(generator=valid_generator, steps=STEP_SIZE_VALID)"
   ]
  },
  {
   "cell_type": "code",
   "execution_count": null,
   "metadata": {},
   "outputs": [],
   "source": [
    "test_datagen=ImageDataGenerator(rescale=1./255.)\n",
    "test_generator=test_datagen.flow_from_directory(\n",
    "    directory=\"test\",\n",
    "    batch_size=32,\n",
    "    seed=42,\n",
    "    shuffle=True,\n",
    "    class_mode=None,\n",
    "    target_size=(64,64))\n",
    "STEP_SIZE_TEST=test_generator.n//test_generator.batch_size\n",
    "test_generator.reset()\n",
    "pred=model.predict_generator(test_generator,\n",
    "steps=STEP_SIZE_TEST,\n",
    "verbose=1)"
   ]
  },
  {
   "cell_type": "code",
   "execution_count": 13,
   "metadata": {},
   "outputs": [
    {
     "data": {
      "text/plain": [
       "{'loss': [0.5970097184181213,\n",
       "  0.5864580869674683,\n",
       "  0.5733625292778015,\n",
       "  0.5593507289886475,\n",
       "  0.5499074459075928,\n",
       "  0.529107928276062,\n",
       "  0.5039184093475342,\n",
       "  0.49000266194343567,\n",
       "  0.4611984193325043,\n",
       "  0.4361407458782196,\n",
       "  0.4101009964942932,\n",
       "  0.3861428201198578,\n",
       "  0.3670750558376312,\n",
       "  0.3522728979587555,\n",
       "  0.3325035870075226,\n",
       "  0.3121224343776703,\n",
       "  0.2907268702983856,\n",
       "  0.2930213212966919,\n",
       "  0.2721068859100342,\n",
       "  0.2542506158351898,\n",
       "  0.2511141002178192,\n",
       "  0.2314685732126236,\n",
       "  0.22735288739204407,\n",
       "  0.22089965641498566,\n",
       "  0.20902900397777557,\n",
       "  0.1775413602590561,\n",
       "  0.18083719909191132,\n",
       "  0.1746797114610672,\n",
       "  0.17320701479911804,\n",
       "  0.15977928042411804],\n",
       " 'accuracy': [0.7194675803184509,\n",
       "  0.7171381115913391,\n",
       "  0.7174708843231201,\n",
       "  0.720798671245575,\n",
       "  0.728723406791687,\n",
       "  0.7400998473167419,\n",
       "  0.7527454495429993,\n",
       "  0.7650582194328308,\n",
       "  0.7763727307319641,\n",
       "  0.7946755290031433,\n",
       "  0.8053244352340698,\n",
       "  0.8282861709594727,\n",
       "  0.8296173214912415,\n",
       "  0.841930091381073,\n",
       "  0.8552412390708923,\n",
       "  0.8625624179840088,\n",
       "  0.881863534450531,\n",
       "  0.8752079606056213,\n",
       "  0.8945091366767883,\n",
       "  0.8935108184814453,\n",
       "  0.8951746821403503,\n",
       "  0.9104825258255005,\n",
       "  0.9044924974441528,\n",
       "  0.9148086309432983,\n",
       "  0.9151414036750793,\n",
       "  0.9347753524780273,\n",
       "  0.9291181564331055,\n",
       "  0.9361065030097961,\n",
       "  0.9357737302780151,\n",
       "  0.941763699054718],\n",
       " 'val_loss': [0.6879515647888184,\n",
       "  0.7647912502288818,\n",
       "  0.6751869320869446,\n",
       "  0.7056582570075989,\n",
       "  0.7061577439308167,\n",
       "  0.7124395966529846,\n",
       "  0.824228048324585,\n",
       "  1.0081534385681152,\n",
       "  0.9977524876594543,\n",
       "  0.8271703124046326,\n",
       "  1.0211727619171143,\n",
       "  1.04707932472229,\n",
       "  1.245517611503601,\n",
       "  1.1087685823440552,\n",
       "  1.2532625198364258,\n",
       "  1.0716782808303833,\n",
       "  1.6802115440368652,\n",
       "  1.4017770290374756,\n",
       "  1.525696039199829,\n",
       "  1.5348581075668335,\n",
       "  1.7046139240264893,\n",
       "  1.4372482299804688,\n",
       "  1.9565355777740479,\n",
       "  1.7625303268432617,\n",
       "  1.8706626892089844,\n",
       "  2.0044853687286377,\n",
       "  1.8493989706039429,\n",
       "  1.9654873609542847,\n",
       "  1.703619122505188,\n",
       "  1.4613393545150757],\n",
       " 'val_accuracy': [0.5980902910232544,\n",
       "  0.5980902910232544,\n",
       "  0.5972222089767456,\n",
       "  0.5963541865348816,\n",
       "  0.5642361044883728,\n",
       "  0.5078125,\n",
       "  0.484375,\n",
       "  0.5295138955116272,\n",
       "  0.5251736044883728,\n",
       "  0.4869791567325592,\n",
       "  0.5130208134651184,\n",
       "  0.484375,\n",
       "  0.5199652910232544,\n",
       "  0.5138888955116272,\n",
       "  0.4756944477558136,\n",
       "  0.4600694477558136,\n",
       "  0.5269097089767456,\n",
       "  0.4904513955116272,\n",
       "  0.5182291865348816,\n",
       "  0.4131944477558136,\n",
       "  0.5199652910232544,\n",
       "  0.4756944477558136,\n",
       "  0.4600694477558136,\n",
       "  0.4921875,\n",
       "  0.4505208432674408,\n",
       "  0.5355902910232544,\n",
       "  0.5486111044883728,\n",
       "  0.5234375,\n",
       "  0.4635416567325592,\n",
       "  0.4609375]}"
      ]
     },
     "execution_count": 13,
     "metadata": {},
     "output_type": "execute_result"
    }
   ],
   "source": [
    "history.history"
   ]
  },
  {
   "cell_type": "code",
   "execution_count": 14,
   "metadata": {},
   "outputs": [],
   "source": [
    "output = model.evaluate_generator(generator=valid_generator, steps=STEP_SIZE_VALID)"
   ]
  },
  {
   "cell_type": "code",
   "execution_count": 21,
   "metadata": {},
   "outputs": [
    {
     "data": {
      "text/plain": [
       "[0.5980902910232544,\n",
       " 0.5980902910232544,\n",
       " 0.5972222089767456,\n",
       " 0.5963541865348816,\n",
       " 0.5642361044883728,\n",
       " 0.5078125,\n",
       " 0.484375,\n",
       " 0.5295138955116272,\n",
       " 0.5251736044883728,\n",
       " 0.4869791567325592,\n",
       " 0.5130208134651184,\n",
       " 0.484375,\n",
       " 0.5199652910232544,\n",
       " 0.5138888955116272,\n",
       " 0.4756944477558136,\n",
       " 0.4600694477558136,\n",
       " 0.5269097089767456,\n",
       " 0.4904513955116272,\n",
       " 0.5182291865348816,\n",
       " 0.4131944477558136,\n",
       " 0.5199652910232544,\n",
       " 0.4756944477558136,\n",
       " 0.4600694477558136,\n",
       " 0.4921875,\n",
       " 0.4505208432674408,\n",
       " 0.5355902910232544,\n",
       " 0.5486111044883728,\n",
       " 0.5234375,\n",
       " 0.4635416567325592,\n",
       " 0.4609375]"
      ]
     },
     "execution_count": 21,
     "metadata": {},
     "output_type": "execute_result"
    }
   ],
   "source": [
    "history.history['val_accuracy']"
   ]
  },
  {
   "cell_type": "code",
   "execution_count": 18,
   "metadata": {},
   "outputs": [
    {
     "data": {
      "text/plain": [
       "[1.459011435508728, 0.4618055522441864]"
      ]
     },
     "execution_count": 18,
     "metadata": {},
     "output_type": "execute_result"
    }
   ],
   "source": [
    "output"
   ]
  },
  {
   "cell_type": "code",
   "execution_count": 19,
   "metadata": {},
   "outputs": [
    {
     "data": {
      "image/png": "[encoded data removed]",
      "text/plain": [
       "<Figure size 432x288 with 1 Axes>"
      ]
     },
     "metadata": {
      "needs_background": "light"
     },
     "output_type": "display_data"
    },
    {
     "data": {
      "image/png": "[encoded data removed]",
      "text/plain": [
       "<Figure size 432x288 with 1 Axes>"
      ]
     },
     "metadata": {
      "needs_background": "light"
     },
     "output_type": "display_data"
    }
   ],
   "source": [
    "plt.plot(history.history['accuracy'])\n",
    "plt.plot(history.history['val_accuracy'])\n",
    "plt.title('model accuracy')\n",
    "plt.ylabel('accuracy')\n",
    "plt.xlabel('epoch')\n",
    "plt.legend(['train', 'test'], loc='upper left')\n",
    "plt.show()\n",
    "# summarize history for loss\n",
    "plt.plot(history.history['loss'])\n",
    "plt.plot(history.history['val_loss'])\n",
    "plt.title('model loss')\n",
    "plt.ylabel('loss')\n",
    "plt.xlabel('epoch')\n",
    "plt.legend(['train', 'test'], loc='upper left')\n",
    "plt.show()"
   ]
  },
  {
   "cell_type": "code",
   "execution_count": 22,
   "metadata": {},
   "outputs": [
    {
     "data": {
      "text/plain": [
       "{'loss': [0.5970097184181213,\n",
       "  0.5864580869674683,\n",
       "  0.5733625292778015,\n",
       "  0.5593507289886475,\n",
       "  0.5499074459075928,\n",
       "  0.529107928276062,\n",
       "  0.5039184093475342,\n",
       "  0.49000266194343567,\n",
       "  0.4611984193325043,\n",
       "  0.4361407458782196,\n",
       "  0.4101009964942932,\n",
       "  0.3861428201198578,\n",
       "  0.3670750558376312,\n",
       "  0.3522728979587555,\n",
       "  0.3325035870075226,\n",
       "  0.3121224343776703,\n",
       "  0.2907268702983856,\n",
       "  0.2930213212966919,\n",
       "  0.2721068859100342,\n",
       "  0.2542506158351898,\n",
       "  0.2511141002178192,\n",
       "  0.2314685732126236,\n",
       "  0.22735288739204407,\n",
       "  0.22089965641498566,\n",
       "  0.20902900397777557,\n",
       "  0.1775413602590561,\n",
       "  0.18083719909191132,\n",
       "  0.1746797114610672,\n",
       "  0.17320701479911804,\n",
       "  0.15977928042411804],\n",
       " 'accuracy': [0.7194675803184509,\n",
       "  0.7171381115913391,\n",
       "  0.7174708843231201,\n",
       "  0.720798671245575,\n",
       "  0.728723406791687,\n",
       "  0.7400998473167419,\n",
       "  0.7527454495429993,\n",
       "  0.7650582194328308,\n",
       "  0.7763727307319641,\n",
       "  0.7946755290031433,\n",
       "  0.8053244352340698,\n",
       "  0.8282861709594727,\n",
       "  0.8296173214912415,\n",
       "  0.841930091381073,\n",
       "  0.8552412390708923,\n",
       "  0.8625624179840088,\n",
       "  0.881863534450531,\n",
       "  0.8752079606056213,\n",
       "  0.8945091366767883,\n",
       "  0.8935108184814453,\n",
       "  0.8951746821403503,\n",
       "  0.9104825258255005,\n",
       "  0.9044924974441528,\n",
       "  0.9148086309432983,\n",
       "  0.9151414036750793,\n",
       "  0.9347753524780273,\n",
       "  0.9291181564331055,\n",
       "  0.9361065030097961,\n",
       "  0.9357737302780151,\n",
       "  0.941763699054718],\n",
       " 'val_loss': [0.6879515647888184,\n",
       "  0.7647912502288818,\n",
       "  0.6751869320869446,\n",
       "  0.7056582570075989,\n",
       "  0.7061577439308167,\n",
       "  0.7124395966529846,\n",
       "  0.824228048324585,\n",
       "  1.0081534385681152,\n",
       "  0.9977524876594543,\n",
       "  0.8271703124046326,\n",
       "  1.0211727619171143,\n",
       "  1.04707932472229,\n",
       "  1.245517611503601,\n",
       "  1.1087685823440552,\n",
       "  1.2532625198364258,\n",
       "  1.0716782808303833,\n",
       "  1.6802115440368652,\n",
       "  1.4017770290374756,\n",
       "  1.525696039199829,\n",
       "  1.5348581075668335,\n",
       "  1.7046139240264893,\n",
       "  1.4372482299804688,\n",
       "  1.9565355777740479,\n",
       "  1.7625303268432617,\n",
       "  1.8706626892089844,\n",
       "  2.0044853687286377,\n",
       "  1.8493989706039429,\n",
       "  1.9654873609542847,\n",
       "  1.703619122505188,\n",
       "  1.4613393545150757],\n",
       " 'val_accuracy': [0.5980902910232544,\n",
       "  0.5980902910232544,\n",
       "  0.5972222089767456,\n",
       "  0.5963541865348816,\n",
       "  0.5642361044883728,\n",
       "  0.5078125,\n",
       "  0.484375,\n",
       "  0.5295138955116272,\n",
       "  0.5251736044883728,\n",
       "  0.4869791567325592,\n",
       "  0.5130208134651184,\n",
       "  0.484375,\n",
       "  0.5199652910232544,\n",
       "  0.5138888955116272,\n",
       "  0.4756944477558136,\n",
       "  0.4600694477558136,\n",
       "  0.5269097089767456,\n",
       "  0.4904513955116272,\n",
       "  0.5182291865348816,\n",
       "  0.4131944477558136,\n",
       "  0.5199652910232544,\n",
       "  0.4756944477558136,\n",
       "  0.4600694477558136,\n",
       "  0.4921875,\n",
       "  0.4505208432674408,\n",
       "  0.5355902910232544,\n",
       "  0.5486111044883728,\n",
       "  0.5234375,\n",
       "  0.4635416567325592,\n",
       "  0.4609375]}"
      ]
     },
     "execution_count": 22,
     "metadata": {},
     "output_type": "execute_result"
    }
   ],
   "source": [
    "history.history"
   ]
  },
  {
   "cell_type": "code",
   "execution_count": null,
   "metadata": {},
   "outputs": [],
   "source": []
  }
 ],
 "metadata": {
  "kernelspec": {
   "display_name": "Python 3",
   "language": "python",
   "name": "python3"
  },
  "language_info": {
   "codemirror_mode": {
    "name": "ipython",
    "version": 3
   },
   "file_extension": ".py",
   "mimetype": "text/x-python",
   "name": "python",
   "nbconvert_exporter": "python",
   "pygments_lexer": "ipython3",
   "version": "3.8.0"
  }
 },
 "nbformat": 4,
 "nbformat_minor": 4
}
