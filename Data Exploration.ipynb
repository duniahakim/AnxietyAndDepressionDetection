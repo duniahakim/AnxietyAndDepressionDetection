{
 "cells": [
  {
   "cell_type": "code",
   "execution_count": null,
   "metadata": {},
   "outputs": [],
   "source": [
    "import matplotlib.pyplot as plt\n",
    "import pandas as pd\n",
    "import numpy as np\n",
    "import re\n",
    "import nltk "
   ]
  },
  {
   "cell_type": "code",
   "execution_count": null,
   "metadata": {},
   "outputs": [],
   "source": [
    "DATA_DIR = 'E:\\\\CS224S_final_Project\\\\data\\\\raw_data'"
   ]
  },
  {
   "cell_type": "code",
   "execution_count": null,
   "metadata": {},
   "outputs": [],
   "source": [
    "train_data = \"{}\\\\..\\\\train_split_Depression_AVEC2017.csv\".format(DATA_DIR)\n",
    "train_df = pd.read_csv(train_data, header=0)"
   ]
  },
  {
   "cell_type": "code",
   "execution_count": null,
   "metadata": {},
   "outputs": [],
   "source": [
    "dev_data = \"{}\\\\..\\\\dev_split_Depression_AVEC2017.csv\".format(DATA_DIR)\n",
    "dev_df = pd.read_csv(dev_data, header=0)"
   ]
  },
  {
   "cell_type": "code",
   "execution_count": null,
   "metadata": {},
   "outputs": [],
   "source": [
    "# Number of depressed and not depressed\n",
    "\n",
    "def num_for_classes(df):\n",
    "    num_not_depressed = len(df[df.PHQ8_Binary == 0]) - 1\n",
    "    num_depressed = len(df[df.PHQ8_Binary == 1]) - 1\n",
    "    return num_not_depressed, num_depressed"
   ]
  },
  {
   "cell_type": "code",
   "execution_count": null,
   "metadata": {},
   "outputs": [],
   "source": [
    "# Time length, number of words, and number of unique words spoken by participant\n",
    "\n",
    "def info_per_session(df):\n",
    "    num_words_per_session = []\n",
    "    num_unique_words_per_session = []\n",
    "    length_time_participant_per_session = []\n",
    "    participants = []\n",
    "\n",
    "    for _, df_row in df.iterrows():\n",
    "        p_num = int(df_row['Participant_ID'])\n",
    "        participants.append(\"Participant\" + str(p_num))\n",
    "        transcript_path = \"{}\\\\{}_P\\\\{}_TRANSCRIPT.csv\".format(DATA_DIR, p_num, p_num)\n",
    "        transcript_df = pd.read_csv(transcript_path, delimiter='\\t', header=0)\n",
    "        transcript_df = transcript_df[transcript_df.speaker != \"Ellie\"]\n",
    "\n",
    "        length_time_participant = np.sum(np.array(transcript_df['stop_time']) - np.array(transcript_df['start_time']))\n",
    "\n",
    "        num_words = 0\n",
    "        unique_words = set()\n",
    "        for index, row in transcript_df.iterrows():\n",
    "            trascript = row['value']\n",
    "            trascript = re.sub('<.*>', '', trascript)\n",
    "            words = nltk.word_tokenize(trascript)\n",
    "            num_words += len(words)\n",
    "            unique_words = unique_words | set(words)\n",
    "\n",
    "        num_words_per_session.append(num_words)\n",
    "        num_unique_words_per_session.append(len(unique_words))\n",
    "        length_time_participant_per_session.append(length_time_participant)\n",
    "        break\n",
    "\n",
    "    return num_words_per_session, num_unique_words_per_session, length_time_participant_per_session, participants"
   ]
  },
  {
   "cell_type": "code",
   "execution_count": null,
   "metadata": {},
   "outputs": [],
   "source": [
    "# Number of Samples from each session\n",
    "\n",
    "def num_samples_per_session(df):\n",
    "    num_samples_per_session = []\n",
    "    for _, df_row in df.iterrows():\n",
    "        p_num = int(df_row['Participant_ID'])\n",
    "        df = pd.read_pickle(str(p_num) +'.pkl')\n",
    "        num_samples_per_session.append(len(df) - 1)\n",
    "        break\n",
    "    return num_samples_per_session"
   ]
  },
  {
   "cell_type": "code",
   "execution_count": null,
   "metadata": {},
   "outputs": [],
   "source": [
    "IMAGES_DIR = 'E:\\\\CS224S_final_Project\\\\data\\\\images'"
   ]
  },
  {
   "cell_type": "code",
   "execution_count": null,
   "metadata": {},
   "outputs": [],
   "source": [
    "# Training Dataset Info\n",
    "training_num_not_depressed, training_num_depressed = num_for_classes(train_df)\n",
    "training_num_words_per_session, training_num_unique_words_per_session, training_length_time_participant_per_session, training_participants = info_per_session(train_df)\n",
    "training_num_samples_per_session = num_samples_per_session(train_df)\n",
    "\n",
    "plt.figure(1)\n",
    "plt.title('Classificaion in Training Data')\n",
    "plt.ylabel('Number of Patients')\n",
    "plt.bar(['Depressed', 'Not Depressed'], [training_num_depressed, training_num_not_depressed])\n",
    "plt.savefig(IMAGES_DIR + '/classification_training.png')\n",
    "\n",
    "plt.figure(2, figsize = (5,5))\n",
    "plt.title('Total Number of Words per Participant in Training Data')\n",
    "plt.ylabel('Total Number of Words')\n",
    "plt.boxplot(training_num_words_per_session)\n",
    "plt.savefig(IMAGES_DIR + '/num_words_training.png')\n",
    "\n",
    "plt.figure(3, figsize = (5,5))\n",
    "plt.title('Number of Unique Words per Participant in Training Data')\n",
    "plt.ylabel('Number of Unique Words')\n",
    "plt.boxplot(training_num_unique_words_per_session)\n",
    "plt.savefig(IMAGES_DIR + '/num_unique_words_training.png')\n",
    "\n",
    "plt.figure(4, figsize = (5,5))\n",
    "plt.title('Length of Recording per Participant in Training Data')\n",
    "plt.ylabel('Seconds')\n",
    "plt.boxplot(training_length_time_participant_per_session)\n",
    "plt.savefig(IMAGES_DIR + '/time_length_training.png')\n",
    "\n",
    "plt.figure(5, figsize = (5,5))\n",
    "plt.title('Number of samples per Participant in Training Data')\n",
    "plt.ylabel('Number of Samples')\n",
    "plt.boxplot(training_num_samples_per_session)\n",
    "plt.savefig(IMAGES_DIR + '/num_samples_training.png')"
   ]
  },
  {
   "cell_type": "code",
   "execution_count": null,
   "metadata": {},
   "outputs": [],
   "source": [
    "# Dev Dataset Info\n",
    "dev_num_not_depressed, dev_num_depressed = num_for_classes(dev_df)\n",
    "dev_num_words_per_session, dev_num_unique_words_per_session, dev_length_time_participant_per_session, dev_participants = info_per_session(dev_df)\n",
    "dev_num_samples_per_session = num_samples_per_session(dev_df)\n",
    "\n",
    "plt.figure(6)\n",
    "plt.title('Classificaion in Validation Data')\n",
    "plt.ylabel('Number of Patients')\n",
    "plt.bar(['Depressed', 'Not Depressed'], [dev_num_depressed, dev_num_not_depressed])\n",
    "plt.savefig(IMAGES_DIR + '/classification_validation.png')\n",
    "\n",
    "plt.figure(7, figsize = (5,5))\n",
    "plt.title('Total Number of Words per Participant in Validation Data')\n",
    "plt.ylabel('Total Number of Words')\n",
    "plt.boxplot(dev_num_words_per_session)\n",
    "plt.savefig(IMAGES_DIR + '/num_words_validation.png')\n",
    "\n",
    "plt.figure(8, figsize = (5,5))\n",
    "plt.title('Number of Unique Words per Participant in Validation Data')\n",
    "plt.ylabel('Number of Unique Words')\n",
    "plt.boxplot(dev_num_unique_words_per_session)\n",
    "plt.savefig(IMAGES_DIR + '/num_unique_words_validation.png')\n",
    "\n",
    "plt.figure(9, figsize = (5,5))\n",
    "plt.title('Length of Recording per Participant in Validation Data')\n",
    "plt.ylabel('Seconds')\n",
    "plt.boxplot(dev_length_time_participant_per_session)\n",
    "plt.savefig(IMAGES_DIR + '/time_length_validation.png')\n",
    "\n",
    "plt.figure(10, figsize = (5,5))\n",
    "plt.title('Number of samples per Participant in Validation Data')\n",
    "plt.ylabel('Number of Samples')\n",
    "plt.boxplot(dev_num_samples_per_session)\n",
    "plt.savefig(IMAGES_DIR + '/num_samples_validation.png')"
   ]
  },
  {
   "cell_type": "code",
   "execution_count": null,
   "metadata": {},
   "outputs": [],
   "source": []
  },
  {
   "cell_type": "code",
   "execution_count": null,
   "metadata": {},
   "outputs": [],
   "source": []
  }
 ],
 "metadata": {
  "kernelspec": {
   "display_name": "Python 3",
   "language": "python",
   "name": "python3"
  },
  "language_info": {
   "codemirror_mode": {
    "name": "ipython",
    "version": 3
   },
   "file_extension": ".py",
   "mimetype": "text/x-python",
   "name": "python",
   "nbconvert_exporter": "python",
   "pygments_lexer": "ipython3",
   "version": "3.8.5"
  }
 },
 "nbformat": 4,
 "nbformat_minor": 4
}
